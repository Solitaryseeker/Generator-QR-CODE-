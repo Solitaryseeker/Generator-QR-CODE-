{
 "cells": [
  {
   "cell_type": "code",
   "id": "initial_id",
   "metadata": {
    "collapsed": true,
    "ExecuteTime": {
     "end_time": "2025-06-06T11:24:42.185698Z",
     "start_time": "2025-06-06T11:24:39.714562Z"
    }
   },
   "source": "!pip install qrcode",
   "outputs": [
    {
     "name": "stdout",
     "output_type": "stream",
     "text": [
      "Collecting qrcode\n",
      "  Downloading qrcode-8.2-py3-none-any.whl.metadata (17 kB)\n",
      "Requirement already satisfied: colorama in c:\\programdata\\anaconda3\\lib\\site-packages (from qrcode) (0.4.6)\n",
      "Downloading qrcode-8.2-py3-none-any.whl (45 kB)\n",
      "Installing collected packages: qrcode\n",
      "Successfully installed qrcode-8.2\n"
     ]
    }
   ],
   "execution_count": 1
  },
  {
   "metadata": {
    "ExecuteTime": {
     "end_time": "2025-06-06T11:28:36.313248Z",
     "start_time": "2025-06-06T11:28:36.297327Z"
    }
   },
   "cell_type": "code",
   "source": "import qrcode as qr",
   "id": "455142f74281a4ee",
   "outputs": [],
   "execution_count": 4
  },
  {
   "metadata": {
    "ExecuteTime": {
     "end_time": "2025-06-06T12:14:40.037819Z",
     "start_time": "2025-06-06T12:14:30.653087Z"
    }
   },
   "cell_type": "code",
   "source": [
    "data = input(\"Enter the URL or text to encode into QR Code: \")\n",
    "\n",
    "# Generate the QR code\n",
    "img = qrcode.make(data)\n",
    "\n",
    "# Save the QR code image\n",
    "filename = \"my_qrcode.png\"\n",
    "img.save(filename)\n",
    "\n",
    "print(f\"QR Code generated and saved as {filename}\")"
   ],
   "id": "3feaf40c76848371",
   "outputs": [
    {
     "ename": "NameError",
     "evalue": "name 'qrcode' is not defined",
     "output_type": "error",
     "traceback": [
      "\u001B[1;31m---------------------------------------------------------------------------\u001B[0m",
      "\u001B[1;31mNameError\u001B[0m                                 Traceback (most recent call last)",
      "Cell \u001B[1;32mIn[2], line 4\u001B[0m\n\u001B[0;32m      1\u001B[0m data \u001B[38;5;241m=\u001B[39m \u001B[38;5;28minput\u001B[39m(\u001B[38;5;124m\"\u001B[39m\u001B[38;5;124mEnter the URL or text to encode into QR Code: \u001B[39m\u001B[38;5;124m\"\u001B[39m)\n\u001B[0;32m      3\u001B[0m \u001B[38;5;66;03m# Generate the QR code\u001B[39;00m\n\u001B[1;32m----> 4\u001B[0m img \u001B[38;5;241m=\u001B[39m qrcode\u001B[38;5;241m.\u001B[39mmake(data)\n\u001B[0;32m      6\u001B[0m \u001B[38;5;66;03m# Save the QR code image\u001B[39;00m\n\u001B[0;32m      7\u001B[0m filename \u001B[38;5;241m=\u001B[39m \u001B[38;5;124m\"\u001B[39m\u001B[38;5;124mmy_qrcode.png\u001B[39m\u001B[38;5;124m\"\u001B[39m\n",
      "\u001B[1;31mNameError\u001B[0m: name 'qrcode' is not defined"
     ]
    }
   ],
   "execution_count": 2
  },
  {
   "metadata": {},
   "cell_type": "code",
   "outputs": [],
   "execution_count": null,
   "source": "",
   "id": "502650eb1803119a"
  }
 ],
 "metadata": {
  "kernelspec": {
   "display_name": "Python 3",
   "language": "python",
   "name": "python3"
  },
  "language_info": {
   "codemirror_mode": {
    "name": "ipython",
    "version": 2
   },
   "file_extension": ".py",
   "mimetype": "text/x-python",
   "name": "python",
   "nbconvert_exporter": "python",
   "pygments_lexer": "ipython2",
   "version": "2.7.6"
  }
 },
 "nbformat": 4,
 "nbformat_minor": 5
}
