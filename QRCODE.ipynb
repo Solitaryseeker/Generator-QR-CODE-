{
 "cells": [
  {
   "cell_type": "code",
   "id": "initial_id",
   "metadata": {
    "collapsed": true,
    "ExecuteTime": {
     "end_time": "2025-06-06T11:24:42.185698Z",
     "start_time": "2025-06-06T11:24:39.714562Z"
    }
   },
   "source": "!pip install qrcode",
   "outputs": [
    {
     "name": "stdout",
     "output_type": "stream",
     "text": [
      "Collecting qrcode\n",
      "  Downloading qrcode-8.2-py3-none-any.whl.metadata (17 kB)\n",
      "Requirement already satisfied: colorama in c:\\programdata\\anaconda3\\lib\\site-packages (from qrcode) (0.4.6)\n",
      "Downloading qrcode-8.2-py3-none-any.whl (45 kB)\n",
      "Installing collected packages: qrcode\n",
      "Successfully installed qrcode-8.2\n"
     ]
    }
   ],
   "execution_count": 1
  },
  {
   "metadata": {
    "ExecuteTime": {
     "end_time": "2025-06-06T11:28:36.313248Z",
     "start_time": "2025-06-06T11:28:36.297327Z"
    }
   },
   "cell_type": "code",
   "source": "import qrcode as qr",
   "id": "455142f74281a4ee",
   "outputs": [],
   "execution_count": 4
  },
  {
   "metadata": {
    "ExecuteTime": {
     "end_time": "2025-06-06T12:42:44.748668Z",
     "start_time": "2025-06-06T12:42:36.420298Z"
    }
   },
   "cell_type": "code",
   "source": [
    "data = input(\"Enter the URL or text to encode into QR Code: \")\n",
    "\n",
    "# Generate the QR code\n",
    "img = qrcode.make(data)\n",
    "\n",
    "# Save the QR code image\n",
    "filename = \"git.png\"\n",
    "img.save(filename)\n",
    "\n",
    "print(f\"QR Code generated and saved as {filename}\")"
   ],
   "id": "3feaf40c76848371",
   "outputs": [
    {
     "name": "stdout",
     "output_type": "stream",
     "text": [
      "QR Code generated and saved as git.png\n"
     ]
    }
   ],
   "execution_count": 15
  },
  {
   "metadata": {},
   "cell_type": "code",
   "outputs": [],
   "execution_count": null,
   "source": "",
   "id": "502650eb1803119a"
  }
 ],
 "metadata": {
  "kernelspec": {
   "display_name": "Python 3",
   "language": "python",
   "name": "python3"
  },
  "language_info": {
   "codemirror_mode": {
    "name": "ipython",
    "version": 2
   },
   "file_extension": ".py",
   "mimetype": "text/x-python",
   "name": "python",
   "nbconvert_exporter": "python",
   "pygments_lexer": "ipython2",
   "version": "2.7.6"
  }
 },
 "nbformat": 4,
 "nbformat_minor": 5
}
